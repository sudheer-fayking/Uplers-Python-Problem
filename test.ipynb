{
  "cells": [
    {
      "cell_type": "code",
      "source": [
        "def solution(A, K, L):\n",
        "    if K+L>len(A):\n",
        "        print(-1)\n",
        "    else:\n",
        "      S=[0]\n",
        "      si=[]\n",
        "      before_l=[0]\n",
        "      after_l=[0]\n",
        "      for i in range(len(A)+1):\n",
        "        if len(A[0:i]) or len(A[i+max(K,L)+1:len(A)+1]) >=min(K,L):\n",
        "          s=sum(A[i:i+max(K,L)])\n",
        "          if s>S[0]:\n",
        "            S[0]=s\n",
        "            si.append(i)\n",
        "      if min(K,L)<len(A[0:si[0]]):\n",
        "        for i in range(len(A[0:si[0]])+1):\n",
        "          befor_sum=sum(A[i:i+min(K,L)])\n",
        "          if befor_sum>before_l[0]:\n",
        "            before_l[0]=befor_sum\n",
        "      if min(K,L)<len(A[si[0]+1:len(A)+1]):\n",
        "        for i in range(len(A[si[0]+1:len(A)+1])+1):\n",
        "          after_sum=sum(A[i:i+min(K,L)])\n",
        "          if after_sum>after_l[0]:\n",
        "            after_l[0]=after_sum\n",
        "      grea=max(before_l[0],after_l[0])\n",
        "\n",
        "      print(S[0]+grea)"
      ],
      "metadata": {
        "id": "gUYKnZ4KvDRA",
        "outputId": "dd6df5d3-81c6-4ab9-92a4-8d9bda2d2788",
        "colab": {
          "base_uri": "https://localhost:8080/"
        }
      },
      "execution_count": 24,
      "outputs": [
        {
          "output_type": "stream",
          "name": "stdout",
          "text": [
            "-1\n"
          ]
        }
      ]
    },
    {
      "cell_type": "code",
      "source": [
        "solution([6,1,4,6,3,2,7,4],3,2)"
      ],
      "metadata": {
        "id": "R89t_T009GqL",
        "outputId": "2080b4b5-2680-4124-e416-e758392b24cd",
        "colab": {
          "base_uri": "https://localhost:8080/"
        }
      },
      "execution_count": 25,
      "outputs": [
        {
          "output_type": "stream",
          "name": "stdout",
          "text": [
            "24\n"
          ]
        }
      ]
    },
    {
      "cell_type": "code",
      "source": [
        "solution([10, 19, 15], 2, 2)"
      ],
      "metadata": {
        "id": "OOD0pyCk9HqT",
        "outputId": "2090adf8-a5cb-4bc1-d0e2-4fee9f5dd273",
        "colab": {
          "base_uri": "https://localhost:8080/"
        }
      },
      "execution_count": 26,
      "outputs": [
        {
          "output_type": "stream",
          "name": "stdout",
          "text": [
            "-1\n"
          ]
        }
      ]
    }
  ],
  "metadata": {
    "kernelspec": {
      "display_name": "Python 3.8.10 64-bit",
      "language": "python",
      "name": "python3"
    },
    "language_info": {
      "codemirror_mode": {
        "name": "ipython",
        "version": 3
      },
      "file_extension": ".py",
      "mimetype": "text/x-python",
      "name": "python",
      "nbconvert_exporter": "python",
      "pygments_lexer": "ipython3",
      "version": "3.8.10"
    },
    "orig_nbformat": 4,
    "vscode": {
      "interpreter": {
        "hash": "916dbcbb3f70747c44a77c7bcd40155683ae19c65e1c03b4aa3499c5328201f1"
      }
    },
    "colab": {
      "provenance": [],
      "toc_visible": true
    }
  },
  "nbformat": 4,
  "nbformat_minor": 0
}